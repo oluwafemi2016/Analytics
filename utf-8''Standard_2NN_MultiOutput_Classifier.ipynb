{
 "cells": [
  {
   "cell_type": "markdown",
   "metadata": {},
   "source": [
    "# Standard Neural Network for Classification Application"
   ]
  },
  {
   "cell_type": "markdown",
   "metadata": {},
   "source": [
    "### This pseudo code can be applied for single and multi output classification problem. \n",
    "\n",
    "### N.B: This is a two layer network\n",
    "\n",
    "#### Variables and Parameters to modify:\n",
    "###### tol - training tolerance\n",
    "###### inputdata - input data\n",
    "###### maxN - normalizing number\n",
    "###### dense_layer_neurons - number of layers in the hidden layer\n",
    "###### n_output - number of outputs"
   ]
  },
  {
   "cell_type": "code",
   "execution_count": null,
   "metadata": {},
   "outputs": [],
   "source": [
    "import tensorflow as tf\n",
    "\n",
    "def train_data():\n",
    "    # define callback\n",
    "    class myCallback(tf.keras.callbacks.Callback):\n",
    "          def on_epoch_end(self, epoch, logs={}):\n",
    "            if(logs.get('loss')< tol):\n",
    "              print(\"\\nReached 100 (1-tol)% accuracy so cancelling training!\")\n",
    "              self.model.stop_training = True\n",
    "\n",
    "    callbacks = myCallback()\n",
    "\n",
    "    mnist = tf.keras.datasets.inputdata\n",
    "    # get training and test datasets\n",
    "    (x_train, y_train),(x_test, y_test) = inputdata.load_data(path=path)\n",
    "    \n",
    "    # Normalize training and test input sets   \n",
    "    x_train = x_train/maxN # maxN is the maximum number\n",
    "    x_test = x_test/maxN\n",
    "    \n",
    "    #Define the model\n",
    "    model = tf.keras.models.Sequential([\n",
    "        tf.keras.layers.Flatten(), \n",
    "        tf.keras.layers.Dense(dense_layer_neurons, activation=tf.nn.relu), \n",
    "        tf.keras.layers.Dense(n_output, activation=tf.nn.softmax)\n",
    "    ])\n",
    "\n",
    "    model.compile(optimizer='adam',\n",
    "                  loss='sparse_categorical_crossentropy',\n",
    "                  metrics=['accuracy'])\n",
    "    \n",
    "    # model fitting\n",
    "    history = model.fit(x_train, y_train, epochs = 10, callbacks = [callbacks]\n",
    "    )\n"
   ]
  }
 ],
 "metadata": {
  "kernelspec": {
   "display_name": "Python 3",
   "language": "python",
   "name": "python3"
  },
  "language_info": {
   "codemirror_mode": {
    "name": "ipython",
    "version": 3
   },
   "file_extension": ".py",
   "mimetype": "text/x-python",
   "name": "python",
   "nbconvert_exporter": "python",
   "pygments_lexer": "ipython3",
   "version": "3.6.8"
  }
 },
 "nbformat": 4,
 "nbformat_minor": 2
}
